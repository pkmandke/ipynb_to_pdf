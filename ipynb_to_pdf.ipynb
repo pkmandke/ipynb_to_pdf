{
  "nbformat": 4,
  "nbformat_minor": 0,
  "metadata": {
    "colab": {
      "name": "ipynb_to_pdf",
      "provenance": [],
      "collapsed_sections": []
    },
    "kernelspec": {
      "name": "python3",
      "display_name": "Python 3"
    }
  },
  "cells": [
    {
      "cell_type": "code",
      "metadata": {
        "id": "5p5ofkWNVSb5",
        "colab_type": "code",
        "colab": {}
      },
      "source": [
        "# Script to convert an ipynb on Google Colab to pdf\n",
        "\n",
        "## Helps avoid the problem of missing out some pages especially in cases where the ipynb is long.\n",
        "\n",
        "## Author: Prathamesh"
      ],
      "execution_count": 0,
      "outputs": []
    },
    {
      "cell_type": "code",
      "metadata": {
        "id": "T7OqryC7Vqrd",
        "colab_type": "code",
        "colab": {}
      },
      "source": [
        "# This might take a while to run!\n",
        "!apt-get update\n",
        "!apt-get install texlive texlive-xetex texlive-latex-extra pandoc"
      ],
      "execution_count": 0,
      "outputs": []
    },
    {
      "cell_type": "code",
      "metadata": {
        "id": "1b4PZRezVweU",
        "colab_type": "code",
        "colab": {}
      },
      "source": [
        "from google.colab import drive\n",
        "drive.mount('/content/drive')\n",
        "# Enter your credentials at this point.\n",
        "\n",
        "# Enter the path to your file in the line below\n",
        "!cp /content/drive/My\\ Drive/path/to/your_file.ipynb ./"
      ],
      "execution_count": 0,
      "outputs": []
    },
    {
      "cell_type": "code",
      "metadata": {
        "id": "uEBOhH_gV0DL",
        "colab_type": "code",
        "colab": {}
      },
      "source": [
        "# In the below command, the ipynb filename must match the one you provided above in the cp command \n",
        "\n",
        "!jupyter nbconvert --to latex \"your_file.ipynb\" --output name_you_want.tex "
      ],
      "execution_count": 0,
      "outputs": []
    },
    {
      "cell_type": "code",
      "metadata": {
        "id": "OLNnJV8AWg7t",
        "colab_type": "code",
        "colab": {}
      },
      "source": [
        "# make sure name_you_want is the same in this cell and the above one.\n",
        "\n",
        "# This step may generate errors. Pls check the log it prints to stdout.\n",
        "\n",
        "!pdflatex name_you_want.tex"
      ],
      "execution_count": 0,
      "outputs": []
    },
    {
      "cell_type": "markdown",
      "metadata": {
        "id": "kt6jocDuWuD0",
        "colab_type": "text"
      },
      "source": [
        "If all goes well, you should see a file called **name_you_want.pdf** in the current working directory. Clicking the directory button on the left sidebar on colab and right-clicking the pdf file should enable you to download it."
      ]
    },
    {
      "cell_type": "code",
      "metadata": {
        "id": "FElxYtxoW9hk",
        "colab_type": "code",
        "colab": {}
      },
      "source": [
        "# Check if the file exists or not\n",
        "\n",
        "! ls"
      ],
      "execution_count": 0,
      "outputs": []
    }
  ]
}